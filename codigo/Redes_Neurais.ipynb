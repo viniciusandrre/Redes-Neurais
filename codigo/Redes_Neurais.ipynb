{
 "cells": [
  {
   "cell_type": "markdown",
   "metadata": {},
   "source": [
    "# Trabalho de Redes Neurais - Inteligência Artificial\n",
    "\n",
    "## Introdução\n",
    "Este notebook tem como objetivo explorar os conceitos fundamentais de redes neurais, com foco no **perceptron** e sua aplicação em problemas lógicos simples, como as portas lógicas **AND** e **OR**. Além disso, investigaremos as limitações do perceptron em resolver problemas não linearmente separáveis, como a porta lógica **XOR**, e como a introdução de uma camada oculta pode superar essas restrições.\n",
    "\n",
    "O trabalho está organizado nas seguintes etapas:\n",
    "\n",
    "**Implementação do Perceptron para as portas lógicas AND e OR**:\n",
    "   - Escolha entre as portas lógicas **AND** e **OR** para implementação.\n",
    "   - Ajuste da função de custo e função de ativação, utilizando **entropia cruzada** e **sigmoide**.\n",
    "   - Implementação no Google Colab, com a inclusão de um parâmetro chamado **momento**.\n",
    "   - Comparação do desempenho do perceptron com e sem o uso do parâmetro momento, utilizando animações paralelas para visualização.\n",
    "   - Análise da **curva de nível da função de perda (loss function)**.\n",
    "\n",
    "**Limitações do Perceptron**:\n",
    "   - Demonstração de que o perceptron não é capaz de resolver o problema **XOR**.\n",
    "   - Introdução de uma **camada oculta com dois neurônios** para resolver o XOR.\n",
    "   - Implementação e análise da solução do XOR com a camada oculta.\n",
    "\n",
    "**Conclusões**:\n",
    "   - Discussão dos resultados obtidos e comparação entre os diferentes cenários (com e sem momento, AND/OR, e XOR com camada oculta).\n"
   ]
  },
  {
   "cell_type": "markdown",
   "metadata": {},
   "source": []
  }
 ],
 "metadata": {
  "language_info": {
   "name": "python"
  }
 },
 "nbformat": 4,
 "nbformat_minor": 2
}
